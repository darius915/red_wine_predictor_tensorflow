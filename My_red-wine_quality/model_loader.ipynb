{
 "cells": [
  {
   "cell_type": "code",
   "execution_count": 50,
   "id": "7f024041",
   "metadata": {},
   "outputs": [],
   "source": [
    "import tensorflow as tf\n",
    "import pandas as pd\n",
    "import numpy as np\n",
    "\n",
    "\n",
    "input = [7.5,0.38,0.57,2.3,0.106,5.0,12.0,0.99605,3.36,0.55,11.4]\n",
    "\n",
    "arr_n_nput = np.array(new_input,dtype=float)\n",
    "#print(arr_n_nput)\n",
    "\n",
    "x_test = tf.keras.utils.normalize(arr_n_nput)\n",
    "#print(x_test)\n",
    "\n",
    "model = tf.keras.models.load_model('wine_quality_predictor.model')"
   ]
  },
  {
   "cell_type": "code",
   "execution_count": 53,
   "id": "12fe188d",
   "metadata": {},
   "outputs": [
    {
     "name": "stdout",
     "output_type": "stream",
     "text": [
      "1/1 [==============================] - 0s 46ms/step\n"
     ]
    }
   ],
   "source": [
    "pred = model.predict(x_test)"
   ]
  },
  {
   "cell_type": "code",
   "execution_count": 54,
   "id": "13316230",
   "metadata": {},
   "outputs": [
    {
     "name": "stdout",
     "output_type": "stream",
     "text": [
      "6.051243\n"
     ]
    }
   ],
   "source": [
    "f_pred = pred.flatten()[0]\n",
    "print(f_pred)"
   ]
  },
  {
   "cell_type": "code",
   "execution_count": null,
   "id": "d85975ff",
   "metadata": {},
   "outputs": [],
   "source": []
  },
  {
   "cell_type": "code",
   "execution_count": null,
   "id": "84c94bdf",
   "metadata": {},
   "outputs": [],
   "source": []
  }
 ],
 "metadata": {
  "kernelspec": {
   "display_name": "Python 3 (ipykernel)",
   "language": "python",
   "name": "python3"
  },
  "language_info": {
   "codemirror_mode": {
    "name": "ipython",
    "version": 3
   },
   "file_extension": ".py",
   "mimetype": "text/x-python",
   "name": "python",
   "nbconvert_exporter": "python",
   "pygments_lexer": "ipython3",
   "version": "3.10.9"
  }
 },
 "nbformat": 4,
 "nbformat_minor": 5
}
